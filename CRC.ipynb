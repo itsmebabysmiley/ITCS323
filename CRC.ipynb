{
 "cells": [
  {
   "cell_type": "code",
   "execution_count": 1,
   "id": "0d7d4547",
   "metadata": {},
   "outputs": [],
   "source": [
    "crc_dict = {\n",
    "        \"crc-32\" : \"100000100110000010001110110110111\",\n",
    "        \"crc-24\" : \"1100000000101000100000001\",\n",
    "        \"crc-16\" : \"11000000000000101\",\n",
    "        \"rcrc-16\": \"10100000000000011\",\n",
    "        \"crc-8\" : \"111010101\",\n",
    "        \"crc-4\" : \"11111\"\n",
    "    }"
   ]
  },
  {
   "cell_type": "code",
   "execution_count": 63,
   "id": "a5b0ba83",
   "metadata": {},
   "outputs": [],
   "source": [
    "def CRC_gen(dataword,wordsize,crc_type):\n",
    "    if wordsize <= 4 :\n",
    "        return 'wordsize should more than 5'\n",
    "    if len(dataword) < len(crc_type):\n",
    "        return 'length of dataword should more than crc-type'\n",
    "    #if length dataword is less than wordsize.\n",
    "    dataword = dataword.zfill(wordsize)\n",
    "    n = len(crc_type)-1 # degree of G(x)\n",
    "    #convert dataword to list and add extra bit by degree of gx\n",
    "    message = list(dataword + ('0'*n))\n",
    "    #generate crc from start of dataword until wordsize or no bit 1 in the dataword left.\n",
    "    while '1' in message[:wordsize]:\n",
    "        find_one = message.index('1')\n",
    "#         if(find_one >= wordsize):\n",
    "#             break\n",
    "        #XOR between dataword and divisor\n",
    "        for i in range(len(crc_type)):\n",
    "            message[find_one+i] = str(int(message[find_one+i]) ^ int(crc_type[i]))\n",
    "\n",
    "    #only {wordsize} bits are crc\n",
    "    crc = ''.join(message[wordsize:])\n",
    "#     print(f'dataword: {dataword} G(x): {crc_type}\\ncodeword:',end=' ')\n",
    "    return dataword+crc\n",
    "        \n",
    "    "
   ]
  },
  {
   "cell_type": "code",
   "execution_count": 64,
   "id": "0487d54c",
   "metadata": {},
   "outputs": [
    {
     "name": "stdout",
     "output_type": "stream",
     "text": [
      "110100111011000011\n",
      "1001001101\n",
      "1001010010\n",
      "10000000000110001101\n",
      "1001001101\n",
      "111110110001001001010111110001000001\n",
      "10010111011\n",
      "1111101100010010010111101111\n",
      "110001001001010000\n",
      "1100010011101\n",
      "100100001\n"
     ]
    }
   ],
   "source": [
    "print(CRC_gen('11010011101100',14,'11111'))\n",
    "print(CRC_gen('100100',6,'11111'))\n",
    "print(CRC_gen('100101',6,'11111'))\n",
    "print(CRC_gen('100000000001',12,'111010101'))\n",
    "print(CRC_gen('100100',6,'11111'))\n",
    "print(CRC_gen('11111011000100100101',20,'10100000000000011'))\n",
    "print(CRC_gen('1001011',7,'11111'))\n",
    "print(CRC_gen('11111011000100100101',20,'111010101'))\n",
    "print(CRC_gen('11000100100101',14,'11111'))\n",
    "print(CRC_gen('110001001',9,'11111'))\n",
    "print(CRC_gen('100100',6,'1101'))"
   ]
  },
  {
   "cell_type": "code",
   "execution_count": null,
   "id": "ea6e8352",
   "metadata": {},
   "outputs": [],
   "source": []
  },
  {
   "cell_type": "code",
   "execution_count": 61,
   "id": "34d1afb3",
   "metadata": {},
   "outputs": [],
   "source": [
    "def CRC_check(codeword,wordsize,crc_type):\n",
    "    if wordsize < 5 :\n",
    "        return 'wordsize should more than 5'\n",
    "    if len(codeword) < len(crc_type):\n",
    "        return 'length of mx should more than gx'\n",
    "    n = len(crc_type)-1 # degree of G(x)\n",
    "    \n",
    "    #convert condword to list because string does not support item assignment.\n",
    "    message = list(codeword)\n",
    "    #size of real dataword(not includ crc bit)\n",
    "    size_of_dataword = len(message) - n\n",
    "    #generate crc from start of dataword until wordsize or no bit 1 in the dataword left.\n",
    "    while '1' in message[:size_of_dataword]:\n",
    "        find_one = message.index('1')\n",
    "        #XOR between dataword and divisor\n",
    "        for i in range(len(crc_type)):\n",
    "            message[find_one+i] = str(int(message[find_one+i]) ^ int(crc_type[i]))\n",
    "    #if remainder is 0, no error\n",
    "    remainder = ''.join(message[size_of_dataword:])\n",
    "#     print(f'codeword: {codeword} G(x): {crc_type}\\nremainder:{remainder}',end=' ')\n",
    "    return 1 if remainder.count('1') == 0 else 0\n",
    "#     return remainder"
   ]
  },
  {
   "cell_type": "code",
   "execution_count": 62,
   "id": "b1c8e2e8",
   "metadata": {},
   "outputs": [
    {
     "name": "stdout",
     "output_type": "stream",
     "text": [
      "1\n",
      "1\n",
      "1\n",
      "1\n",
      "1\n",
      "1\n",
      "1\n",
      "1\n",
      "1\n",
      "0\n"
     ]
    }
   ],
   "source": [
    "print(CRC_check('110100111011000011',14,'11111'))\n",
    "print(CRC_check('100100001',9,'1101'))\n",
    "print(CRC_check('10010111',8,'1011'))\n",
    "print(CRC_check('100000000001100',15,'1101'))\n",
    "print(CRC_check('1001001101',10,'11111'))\n",
    "print(CRC_check('111110110001001001010111110001000001',36,'10100000000000011'))\n",
    "print(CRC_check('10010111011',11,'11111'))\n",
    "print(CRC_check('1111101100010010010111101111',28,'111010101'))\n",
    "print(CRC_check('110001001001010000',18,'11111'))\n",
    "print(CRC_check('1110010011101',13,'11111')) #####data change bit 3"
   ]
  },
  {
   "cell_type": "code",
   "execution_count": null,
   "id": "387c0886",
   "metadata": {},
   "outputs": [],
   "source": []
  }
 ],
 "metadata": {
  "kernelspec": {
   "display_name": "Python 3",
   "language": "python",
   "name": "python3"
  },
  "language_info": {
   "codemirror_mode": {
    "name": "ipython",
    "version": 3
   },
   "file_extension": ".py",
   "mimetype": "text/x-python",
   "name": "python",
   "nbconvert_exporter": "python",
   "pygments_lexer": "ipython3",
   "version": "3.8.8"
  }
 },
 "nbformat": 4,
 "nbformat_minor": 5
}
