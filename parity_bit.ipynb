{
 "cells": [
  {
   "cell_type": "code",
   "execution_count": 1,
   "id": "a62e309f",
   "metadata": {},
   "outputs": [],
   "source": [
    "#2. Parity bit\n",
    "\n",
    "def parity_gen(dataword, word_size, parity_type, array_size):\n",
    "    if word_size < 5 : return print('word size should more than 5.')\n",
    "    #combine array to a long string\n",
    "    print('dataword:',combine_string(dataword,word_size))\n",
    "    if parity_type == 'one-dimensional-odd':\n",
    "        return parity_gen_1D(dataword, word_size,array_size,'odd')\n",
    "    elif parity_type == 'one-dimensional-even':\n",
    "        return parity_gen_1D(dataword, word_size,array_size, 'even')\n",
    "    elif parity_type == 'two-dimensional-even':\n",
    "        return parity_gen_2D(dataword, word_size,array_size,'even')\n",
    "    elif parity_type == 'two-dimensional-odd':\n",
    "        return parity_gen_2D(dataword, word_size,array_size,'odd')\n",
    "\n",
    "def parity_gen_1D(dataword, word_size,array_size,method):\n",
    "    x = ['1','0'] if method == 'odd' else ['0','1']\n",
    "    new_dataword = '' #dataword with extra bit.\n",
    "    for i in range(array_size) :\n",
    "        #count bit 1 and if data bit is less than wordsize, then append bit 0 untill equal wordsize\n",
    "        dataword[i] = dataword[i] if len(dataword[i]) - word_size == 0 else dataword[i].ljust(word_size,'0')\n",
    "        count_bit1 = dataword[i].count('1')\n",
    "        #if method is odd, then add extra bit 1 if count bit 1 is even else add bit 0 for odd\n",
    "        dataword[i] += x[0] if count_bit1 % 2 == 0 else x[1]\n",
    "        new_dataword += dataword[i] + ' '\n",
    "    return new_dataword[:-1]   #remove extra 0 in the end.\n",
    "\n",
    "\n",
    "def parity_gen_2D(dataword, word_size,array_size,method):\n",
    "    x = ['1','0'] if method == 'odd' else ['0','1']\n",
    "    dataword = combine_string(dataword,word_size);\n",
    "    rows = dataword.split(' ')  #spilt frame of data into array\n",
    "    rows_addbit = parity_gen_1D(rows,word_size,array_size,method) #rows that will append extra bit\n",
    "    p_b = ''  #extra row for parity bit\n",
    "    #jump step[wordsize + 1 space between + 1 extra bit from row]\n",
    "    jump = word_size+2;\n",
    "    #check bit 1 at every column if method is odd and count bit 1 is even add bit 1 else add bit 0 \n",
    "    for i in range(0,len(rows[0])+1):\n",
    "        column = ''\n",
    "        for j in range(i,len(rows_addbit),jump):\n",
    "            column += rows_addbit[j]\n",
    "        p_b += x[0] if column.count('1') % 2 == 0 else x[1]\n",
    "    \n",
    "    return rows_addbit+' '+p_b[:-1]\n",
    "\n",
    "\n",
    "def combine_string(dataword,word_size):\n",
    "    new_dataword = ''\n",
    "    for i in dataword:\n",
    "        if len(i) - word_size == 0:\n",
    "            new_dataword += i + ' '\n",
    "        else :\n",
    "            new_dataword += i.ljust(word_size,'0') + ' '\n",
    "    return new_dataword[:-1]"
   ]
  },
  {
   "cell_type": "code",
   "execution_count": 2,
   "id": "61134d45",
   "metadata": {},
   "outputs": [
    {
     "name": "stdout",
     "output_type": "stream",
     "text": [
      "dataword: 1110001\n",
      "11100010\n",
      "dataword: 100010 101100 100100\n",
      "1000100 1011001 1001000\n",
      "dataword: 100010 101100 100100\n",
      "1000100 1011001 1001000 1010101\n",
      "dataword: 11111 01011 11001\n",
      "111111 010111 110011 011011\n",
      "dataword: 1110001 0101101\n",
      "11100010 01011010 10111000\n",
      "dataword: 1100111 1011101 0111001 0101001\n",
      "11001111 10111011 01110010 01010011 01010101\n",
      "dataword: 1110001\n",
      "11100011\n",
      "dataword: 100010 101100 100100\n",
      "1000101 1011000 1001001\n",
      "dataword: 11111 01011 11001\n",
      "111110 010110 110010 100101\n",
      "dataword: 1110001 0101101\n",
      "11100011 01011011 01000111\n",
      "dataword: 1100111 1011101 0111001 0101001\n",
      "11001110 10111010 01110011 01010010 10101010\n"
     ]
    }
   ],
   "source": [
    "print(parity_gen(['1110001'],7,'one-dimensional-even',1))\n",
    "print(parity_gen(['100010','1011','100100'],6,'one-dimensional-even',3))\n",
    "print(parity_gen(['100010','1011','100100'],6,'two-dimensional-even',3))\n",
    "print(parity_gen(['11111','01011','11001'],5,'two-dimensional-even',3))\n",
    "print(parity_gen(['1110001','0101101'],7,'two-dimensional-even',2))\n",
    "print(parity_gen(['1100111','1011101','0111001','0101001'],7,'two-dimensional-even',4))\n",
    "print(parity_gen(['1110001'],7,'one-dimensional-odd',1))\n",
    "print(parity_gen(['100010','1011','100100'],6,'one-dimensional-odd',3))\n",
    "print(parity_gen(['11111','01011','11001'],5,'two-dimensional-odd',3))\n",
    "print(parity_gen(['1110001','0101101'],7,'two-dimensional-odd',2))\n",
    "print(parity_gen(['1100111','1011101','0111001','0101001'],7,'two-dimensional-odd',4))"
   ]
  },
  {
   "cell_type": "code",
   "execution_count": 3,
   "id": "90d35978",
   "metadata": {},
   "outputs": [],
   "source": [
    "def parity_check(codeword, parity_type, array_size):\n",
    "    if parity_type == 'one-dimensional-odd':\n",
    "        return parity_check_1D(codeword,'odd')\n",
    "    elif parity_type == 'one-dimensional-even':\n",
    "        return parity_check_1D(codeword, 'even')\n",
    "    elif parity_type == 'two-dimensional-even':\n",
    "        return parity_check_2D(codeword,array_size,'even')\n",
    "    elif parity_type == 'two-dimensional-odd':\n",
    "        return parity_check_2D(codeword,array_size,'odd')\n",
    "\n",
    "def parity_check_1D(codeword, method):\n",
    "    x = 1 if method == 'odd' else 0\n",
    "    for i in codeword:\n",
    "        if i.count('1') % 2 != x:\n",
    "#             print(f'codeword {i} error: true')\n",
    "            return 0\n",
    "    return 1\n",
    "\n",
    "\n",
    "def parity_check_2D(codeword, array_size, method):\n",
    "    x = 1 if method == 'odd' else 0\n",
    "    word_size = len(codeword[0])\n",
    "    rows_addbit = combine_string(codeword,word_size)\n",
    "    #check row error without parity bit row\n",
    "    if parity_check_1D(codeword[:-1],method) == 0:\n",
    "        return 0\n",
    "    #check column error\n",
    "    jump = word_size + 1\n",
    "    for i in range(len(codeword[0])):\n",
    "        column = ''\n",
    "        for j in range(i,len(rows_addbit),jump):\n",
    "            column += rows_addbit[j]\n",
    "        if column.count('1') %2 != x:\n",
    "            return 0\n",
    "\n",
    "    return 1\n",
    "\n",
    "def combine_string(codeword,word_size):\n",
    "    new_codeword = ''\n",
    "    for i in codeword:\n",
    "        if len(i) - word_size == 0:\n",
    "            new_codeword += i + ' '\n",
    "        else :\n",
    "            new_codeword += i.ljust(word_size,'0') + ' '\n",
    "    return new_codeword[:-1]"
   ]
  },
  {
   "cell_type": "code",
   "execution_count": 4,
   "id": "9baa8777",
   "metadata": {},
   "outputs": [
    {
     "data": {
      "text/plain": [
       "1"
      ]
     },
     "execution_count": 4,
     "metadata": {},
     "output_type": "execute_result"
    }
   ],
   "source": [
    "parity_check(['11100011', '01011011', '01000111'],'two-dimensional-odd',3)"
   ]
  },
  {
   "cell_type": "code",
   "execution_count": 5,
   "id": "42c6a921",
   "metadata": {},
   "outputs": [
    {
     "name": "stdout",
     "output_type": "stream",
     "text": [
      "1\n",
      "1\n",
      "1\n",
      "1\n",
      "1\n",
      "1\n",
      "1\n",
      "1\n",
      "1\n",
      "1\n"
     ]
    }
   ],
   "source": [
    "print(parity_check(['11100010'],'one-dimensional-even',1))\n",
    "print(parity_check(['1000100','1011001', '1001000'],'one-dimensional-even',3))\n",
    "print(parity_check(['1000100' ,'1011001' ,'1001000' ,'1010101'],'two-dimensional-even',4))\n",
    "print(parity_check(['111111', '010111', '110011', '011011'],'two-dimensional-even',4))\n",
    "print(parity_check(['11100010','01011010', '10111000'],'two-dimensional-even',3))\n",
    "\n",
    "print(parity_check(['11100011'],'one-dimensional-odd',1))\n",
    "print(parity_check(['1000101 1011000 1001001'],'one-dimensional-odd',1))\n",
    "print(parity_check(['111110', '010110', '110010', '100101'],'two-dimensional-odd',4))\n",
    "print(parity_check(['11100011', '01011011', '01000111'],'two-dimensional-odd',3))\n",
    "print(parity_check(['11001110', '10111010', '01110011', '01010010', '10101010'],'two-dimensional-odd',5))"
   ]
  },
  {
   "cell_type": "code",
   "execution_count": 6,
   "id": "3c5e3879",
   "metadata": {},
   "outputs": [
    {
     "ename": "SyntaxError",
     "evalue": "leading zeros in decimal integer literals are not permitted; use an 0o prefix for octal integers (<ipython-input-6-9489f3b86872>, line 2)",
     "output_type": "error",
     "traceback": [
      "\u001b[0;36m  File \u001b[0;32m\"<ipython-input-6-9489f3b86872>\"\u001b[0;36m, line \u001b[0;32m2\u001b[0m\n\u001b[0;31m    01011011\u001b[0m\n\u001b[0m           ^\u001b[0m\n\u001b[0;31mSyntaxError\u001b[0m\u001b[0;31m:\u001b[0m leading zeros in decimal integer literals are not permitted; use an 0o prefix for octal integers\n"
     ]
    }
   ],
   "source": []
  }
 ],
 "metadata": {
  "kernelspec": {
   "display_name": "Python 3",
   "language": "python",
   "name": "python3"
  },
  "language_info": {
   "codemirror_mode": {
    "name": "ipython",
    "version": 3
   },
   "file_extension": ".py",
   "mimetype": "text/x-python",
   "name": "python",
   "nbconvert_exporter": "python",
   "pygments_lexer": "ipython3",
   "version": "3.8.8"
  }
 },
 "nbformat": 4,
 "nbformat_minor": 5
}
