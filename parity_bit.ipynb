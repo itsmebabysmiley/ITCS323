{
 "cells": [
  {
   "cell_type": "code",
   "execution_count": 1,
   "id": "a62e309f",
   "metadata": {},
   "outputs": [],
   "source": [
    "#2. Parity bit\n",
    "\n",
    "def parity_gen(dataword, word_size, parity_type, array_size):\n",
    "    if word_size < 5 : return print('word size should more than 5.')\n",
    "    if parity_type == 'one-dimensional-odd':\n",
    "        return parity_gen_1D(dataword, word_size,array_size,'odd')\n",
    "    elif parity_type == 'one-dimensional-even':\n",
    "        return parity_gen_1D(dataword, word_size,array_size, 'even')\n",
    "    elif parity_type == 'two-dimensional-even':\n",
    "        return parity_gen_2D(dataword, word_size,array_size,'even')\n",
    "    elif parity_type == 'two-dimensional-odd':\n",
    "        return parity_gen_2D(dataword, word_size,array_size,'odd')\n",
    "\n",
    "def parity_gen_1D(dataword, word_size,array_size,method):\n",
    "    x = ['1','0'] if method == 'odd' else ['0','1']\n",
    "    new_dataword = '' #dataword with extra bit.\n",
    "    for i in range(array_size) :\n",
    "        #if data bit is less than wordsize, then append bit 0 untill equal wordsize\n",
    "        dataword[i] = dataword[i] if len(dataword[i]) - word_size == 0 else dataword[i].ljust(word_size,'0')\n",
    "        #if method is odd, then add extra bit 1 if count bit 1 is even else add bit 0 for odd\n",
    "        count_bit1 = dataword[i].count('1')\n",
    "        dataword[i] += x[0] if count_bit1 % 2 == 0 else x[1]\n",
    "        new_dataword += dataword[i] + ' '\n",
    "    return new_dataword[:-1]   #remove extra 0 in the end.\n",
    "\n",
    "\n",
    "def parity_gen_2D(dataword, word_size,array_size,method):\n",
    "    if(array_size < 2): return 'size of array must bigger than 1'\n",
    "    x = ['1','0'] if method == 'odd' else ['0','1']\n",
    "    dataword = combine_string(dataword,word_size);\n",
    "    rows = dataword.split(' ')  #spilt frame of data into array\n",
    "    rows_addbit = parity_gen_1D(rows,word_size,array_size,method) #rows that will append extra bit\n",
    "    p_b = ''  #extra row for parity bit\n",
    "    #jump step[wordsize + 1 space between + 1 extra bit from row]\n",
    "    jump = word_size+2;\n",
    "    #check bit 1 at every column if method is odd and count bit 1 is even add bit 1 else add bit 0 \n",
    "    for i in range(0,len(rows[0])+1):\n",
    "        column = ''\n",
    "        for j in range(i,len(rows_addbit),jump):\n",
    "            column += rows_addbit[j]\n",
    "        p_b += x[0] if column.count('1') % 2 == 0 else x[1]\n",
    "    \n",
    "    return rows_addbit+' '+p_b[:-1]\n",
    "\n",
    "\n",
    "def combine_string(dataword,word_size):\n",
    "    new_dataword = ''\n",
    "    for i in dataword:\n",
    "        if len(i) - word_size == 0:\n",
    "            new_dataword += i + ' '\n",
    "        else :\n",
    "            new_dataword += i.zfill(word_size) + ' '\n",
    "    return new_dataword[:-1]"
   ]
  },
  {
   "cell_type": "code",
   "execution_count": 3,
   "id": "61134d45",
   "metadata": {},
   "outputs": [
    {
     "name": "stdout",
     "output_type": "stream",
     "text": [
      "11100010\n",
      "1000100 1011001 1001000\n",
      "1000100 0010111 1001000 0011011\n",
      "111111 010111 110011 011011\n",
      "11100010 01011010 10111000\n",
      "11001111 10111011 01110010 01010011 01010101\n",
      "11100011\n",
      "1000101 1011000 1001001\n",
      "111110 010110 110010 100101\n",
      "11100011 01011011 01000111\n",
      "11001110 10111010 01110011 01010010 10101010\n"
     ]
    }
   ],
   "source": [
    "print(parity_gen(['1110001'],7,'one-dimensional-even',1))\n",
    "print(parity_gen(['100010','1011','100100'],6,'one-dimensional-even',3))\n",
    "print(parity_gen(['100010','1011','100100'],6,'two-dimensional-even',3))\n",
    "print(parity_gen(['11111','01011','11001'],5,'two-dimensional-even',3))\n",
    "print(parity_gen(['1110001','0101101'],7,'two-dimensional-even',2))\n",
    "print(parity_gen(['1100111','1011101','0111001','0101001'],7,'two-dimensional-even',4))\n",
    "print(parity_gen(['1110001'],7,'one-dimensional-odd',1))\n",
    "print(parity_gen(['100010','1011','100100'],6,'one-dimensional-odd',3))\n",
    "print(parity_gen(['11111','01011','11001'],5,'two-dimensional-odd',3))\n",
    "print(parity_gen(['1110001','0101101'],7,'two-dimensional-odd',2))\n",
    "print(parity_gen(['1100111','1011101','0111001','0101001'],7,'two-dimensional-odd',4))\n",
    "# parity_gen([\"10101\",\"0100011\"],7,'two-dimensional-even',2)"
   ]
  },
  {
   "cell_type": "code",
   "execution_count": null,
   "id": "2c8f5446",
   "metadata": {},
   "outputs": [],
   "source": [
    "11100010\n",
    "1000100 1011001 1001000\n",
    "1000100 1011001 1001000 1010101\n",
    "111111 010111 110011 011011\n",
    "11100010 01011010 10111000\n",
    "11001111 10111011 01110010 01010011 01010101\n",
    "11100011\n",
    "1000101 1011000 1001001\n",
    "111110 010110 110010 100101\n",
    "11100011 01011011 01000111\n",
    "11001110 10111010 01110011 01010010 10101010"
   ]
  },
  {
   "cell_type": "code",
   "execution_count": 3,
   "id": "2fd233cf",
   "metadata": {},
   "outputs": [],
   "source": [
    "#**note please return with string\n",
    "#Parity gen 1-D even\n",
    "assert parity_gen(['10110'],5,'one-dimensional-even',1) == '101101', 'result wrong'\n",
    "assert parity_gen(['001010011010'],12,'one-dimensional-even',1) == '0010100110101','result wrong'\n",
    "assert parity_gen(['0010'],7,'one-dimensional-even',1) == '00100001', 'result wrong'\n",
    "assert parity_gen(['100010','1011','100100'],6,'one-dimensional-even',3) == '1000100 1011001 1001000', 'result wrong'\n",
    "#Parity gen 1-D odd\n",
    "assert parity_gen(['1101110'],7,'one-dimensional-odd',1) == '11011100','result wrong'\n",
    "assert parity_gen(['1000010111'],12,'one-dimensional-odd',1) == '1000010111000', 'result wrong'\n",
    "assert parity_gen(['01101010'],9,'one-dimensional-odd',1) == '0110101001','result wrong'\n",
    "assert parity_gen(['100010','1011','100100'],6,'one-dimensional-odd',3) == '1000101 1011000 1001001', 'result wrong'\n",
    "#Parity gen 2-D even\n",
    "assert parity_gen(['1100111','1011101','0111001','0101001'],7,'two-dimensional-even',4) == '11001111 10111011 01110010 01010011 01010101','result wrong'\n",
    "assert parity_gen([\"10101\",\"0100011\"],7,'two-dimensional-even',2) == '10101001 01000111 11101110', 'result wrong'\n",
    "assert parity_gen([\"111011\",\"01100\"],6,'two-dimensional-even',2) == '1110111 0110000 1000111', 'result wrong'\n",
    "assert parity_gen([\"111110111\",\"1110000\",\"000100\",'01100'],9,'two-dimensional-even',4) == '1111101110 1110000001 0001000001 0110000000 0110101110', 'result wrong'\n",
    "#Parity gen 2-D odd\n",
    "assert parity_gen([\"111110111\",\"1110000\",\"000100\",'01100'],9,'two-dimensional-odd',4) == '1111101111 1110000000 0001000000 0110000001 1001010001', 'result wrong'\n",
    "assert parity_gen([\"1100001\",\"0010\"],7,'two-dimensional-odd',2) == '11000010 00100000 00011101', 'result wrong'\n",
    "assert parity_gen([\"1110\",\"1011100\",\"0011011\"],7,'two-dimensional-odd',3) == '11100000 10111001 00110111 10010001', 'result wrong'\n",
    "assert parity_gen([\"10101\",\"0100011\"],7,'two-dimensional-odd',2) == '10101000 01000110 00010001', 'result wrong'\n"
   ]
  },
  {
   "cell_type": "code",
   "execution_count": 4,
   "id": "90d35978",
   "metadata": {},
   "outputs": [],
   "source": [
    "def parity_check(codeword, parity_type, array_size):\n",
    "    if parity_type == 'one-dimensional-odd':\n",
    "        return parity_check_1D(codeword,'odd')\n",
    "    elif parity_type == 'one-dimensional-even':\n",
    "        return parity_check_1D(codeword, 'even')\n",
    "    elif parity_type == 'two-dimensional-even':\n",
    "        return parity_check_2D(codeword,array_size,'even')\n",
    "    elif parity_type == 'two-dimensional-odd':\n",
    "        return parity_check_2D(codeword,array_size,'odd')\n",
    "\n",
    "def parity_check_1D(codeword, method):\n",
    "    x = 1 if method == 'odd' else 0\n",
    "    for i in codeword:\n",
    "        if i.count('1') % 2 != x:\n",
    "#             print(f'codeword {i} error: true')\n",
    "            return 0\n",
    "    return 1\n",
    "\n",
    "\n",
    "def parity_check_2D(codeword, array_size, method):\n",
    "    x = 1 if method == 'odd' else 0\n",
    "    word_size = len(codeword[0])\n",
    "    rows_addbit = combine_string(codeword,word_size)\n",
    "    #check row error without parity bit row\n",
    "    if parity_check_1D(codeword[:-1],method) == 0:\n",
    "        return 0\n",
    "    #check column error\n",
    "    jump = word_size + 1\n",
    "    for i in range(len(codeword[0])):\n",
    "        column = ''\n",
    "        for j in range(i,len(rows_addbit),jump):\n",
    "            column += rows_addbit[j]\n",
    "        if column.count('1') %2 != x:\n",
    "            return 0\n",
    "\n",
    "    return 1\n",
    "\n",
    "def combine_string(codeword,word_size):\n",
    "    new_codeword = ''\n",
    "    for i in codeword:\n",
    "        if len(i) - word_size == 0:\n",
    "            new_codeword += i + ' '\n",
    "        else :\n",
    "            new_codeword += i.ljust(word_size,'0') + ' '\n",
    "    return new_codeword[:-1]"
   ]
  },
  {
   "cell_type": "code",
   "execution_count": 5,
   "id": "9baa8777",
   "metadata": {},
   "outputs": [
    {
     "data": {
      "text/plain": [
       "1"
      ]
     },
     "execution_count": 5,
     "metadata": {},
     "output_type": "execute_result"
    }
   ],
   "source": [
    "parity_check(['11100011', '01011011', '01000111'],'two-dimensional-odd',3)"
   ]
  },
  {
   "cell_type": "code",
   "execution_count": 12,
   "id": "42c6a921",
   "metadata": {},
   "outputs": [
    {
     "name": "stdout",
     "output_type": "stream",
     "text": [
      "1\n",
      "1\n",
      "1\n",
      "1\n",
      "1\n",
      "1\n",
      "1\n",
      "1\n",
      "1\n",
      "1\n"
     ]
    },
    {
     "data": {
      "text/plain": [
       "0"
      ]
     },
     "execution_count": 12,
     "metadata": {},
     "output_type": "execute_result"
    }
   ],
   "source": [
    "print(parity_check(['11100010'],'one-dimensional-even',1))\n",
    "print(parity_check(['1000100','1011001', '1001000'],'one-dimensional-even',3))\n",
    "print(parity_check(['1000100' ,'1011001' ,'1001000' ,'1010101'],'two-dimensional-even',4))\n",
    "print(parity_check(['111111', '010111', '110011', '011011'],'two-dimensional-even',4))\n",
    "print(parity_check(['11100010','01011010', '10111000'],'two-dimensional-even',3))\n",
    "\n",
    "print(parity_check(['11100011'],'one-dimensional-odd',1))\n",
    "print(parity_check(['1000101 1011000 1001001'],'one-dimensional-odd',1))\n",
    "print(parity_check(['111110', '010110', '110010', '100101'],'two-dimensional-odd',4))\n",
    "print(parity_check(['11100011', '01011011', '01000111'],'two-dimensional-odd',3))\n",
    "print(parity_check(['11001110', '10111010', '01110011', '01010010', '10101010'],'two-dimensional-odd',5))\n",
    "#            ['11011111', '01110011', '01110011', '01010010', '01110010'] original data\n",
    "parity_check(['11011110', '01110011', '01110011', '01010010', '10101010'],'two-dimensional-odd',5) #dataword change"
   ]
  },
  {
   "cell_type": "code",
   "execution_count": 7,
   "id": "3c5e3879",
   "metadata": {},
   "outputs": [],
   "source": [
    "#**note please return with integer\n",
    "#Parity check 1-D even\n",
    "assert parity_check(['11100010'],'one-dimensional-even',1) == 1 ,'result wrong'\n",
    "assert parity_check(['0000111'],'one-dimensional-even',1) == 0 ,'result wrong'\n",
    "assert parity_check(['10010011','00011110'],'one-dimensional-even',2) == 1 ,'result wrong'\n",
    "assert parity_check(['1100001','1100101'],'one-dimensional-even',2) == 0 ,'result wrong'\n",
    "#Parity check 1-D odd\n",
    "assert parity_check(['11100010'],'one-dimensional-odd',1) == 0 ,'result wrong'\n",
    "assert parity_check(['0000111'],'one-dimensional-odd',1) == 1 ,'result wrong'\n",
    "assert parity_check(['10010011','00011110'],'one-dimensional-odd',2) == 0 ,'result wrong'\n",
    "assert parity_check(['1100001','1100101'],'one-dimensional-odd',2) == 0 ,'result wrong'\n",
    "#Parity check 2-D even\n",
    "assert (parity_check(['111111', '010111', '110011', '011011'],'two-dimensional-even',4)) == 1, 'result wrong'\n",
    "assert (parity_check(['11100010','01011010', '10111000'],'two-dimensional-even',3)) == 1, 'result wrong'\n",
    "assert (parity_check(['111111', '010111', '110111', '011011'],'two-dimensional-even',4)) == 0, 'result wrong'\n",
    "assert (parity_check(['11100010','01011110', '10111000'],'two-dimensional-even',3)) == 0, 'result wrong'\n",
    "#Parity check 2-D odd\n",
    "assert parity_check(['11100011', '01011011', '01000111'],'two-dimensional-odd',3) == 1, 'result wrong'\n",
    "assert parity_check(['11001110', '10111010', '01110011', '01010010', '10101010'],'two-dimensional-odd',5) == 1, 'result wrong'\n",
    "assert parity_check(['01011011', '01011011', '01100111'],'two-dimensional-odd',3) == 0, 'result wrong'\n",
    "assert parity_check(['11011110', '01110011', '01110011', '01010010', '10101010'],'two-dimensional-odd',5) == 0, 'result wrong'\n"
   ]
  },
  {
   "cell_type": "code",
   "execution_count": 8,
   "id": "9aff7111",
   "metadata": {},
   "outputs": [
    {
     "data": {
      "text/plain": [
       "0"
      ]
     },
     "execution_count": 8,
     "metadata": {},
     "output_type": "execute_result"
    }
   ],
   "source": [
    "parity_check(['11011110', '01110011', '01110011', '01010010', '10101010'],'two-dimensional-odd',5) "
   ]
  },
  {
   "cell_type": "code",
   "execution_count": 9,
   "id": "74b49618",
   "metadata": {},
   "outputs": [
    {
     "data": {
      "text/plain": [
       "1"
      ]
     },
     "execution_count": 9,
     "metadata": {},
     "output_type": "execute_result"
    }
   ],
   "source": [
    "parity_check(['11011111', '01110011', '01110011', '01010010', '01110010'],'two-dimensional-odd',5) "
   ]
  },
  {
   "cell_type": "code",
   "execution_count": null,
   "id": "11d48f92",
   "metadata": {},
   "outputs": [],
   "source": []
  }
 ],
 "metadata": {
  "kernelspec": {
   "display_name": "Python 3",
   "language": "python",
   "name": "python3"
  },
  "language_info": {
   "codemirror_mode": {
    "name": "ipython",
    "version": 3
   },
   "file_extension": ".py",
   "mimetype": "text/x-python",
   "name": "python",
   "nbconvert_exporter": "python",
   "pygments_lexer": "ipython3",
   "version": "3.8.8"
  }
 },
 "nbformat": 4,
 "nbformat_minor": 5
}
