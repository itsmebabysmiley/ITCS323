{
 "cells": [
  {
   "cell_type": "code",
   "execution_count": 193,
   "id": "59fcf49e",
   "metadata": {},
   "outputs": [],
   "source": [
    "def checksum_gen(dataword, word_size, blocks):\n",
    "    size_dataword = len(dataword)\n",
    "    #convert binary to decimal\n",
    "    dataword = [int('0b'+dataword[i],2) for i in range(size_dataword)]\n",
    "    x=0;\n",
    "    for i in dataword:\n",
    "        x+=i;\n",
    "    #convert summation back to list of binary\n",
    "    summation = bin(x)[2:]\n",
    "    #find the extra bit \n",
    "    size_extra_bit = len(summation) - blocks\n",
    "    print(size_extra_bit)\n",
    "    extra_bit = '0b'+summation[:size_extra_bit].zfill(word_size)\n",
    "    summation = '0b'+summation[size_extra_bit:].zfill(word_size)\n",
    "#     print(summation+'\\n'+extra_bit)\n",
    "    #calculate checksum by summation+extra bit.\n",
    "    checksum = list(str(bin(int(summation,2)+int(extra_bit,2))[2:]).zfill(word_size))\n",
    "    print(checksum)\n",
    "    #1's complement\n",
    "    for i in range(len(checksum)):\n",
    "        if checksum[i] == '1':\n",
    "            checksum[i] = '0'\n",
    "        else:\n",
    "            checksum[i] = '1'\n",
    "    print(''.join(checksum))\n",
    "        "
   ]
  },
  {
   "cell_type": "code",
   "execution_count": 194,
   "id": "a77cfd5a",
   "metadata": {},
   "outputs": [
    {
     "name": "stdout",
     "output_type": "stream",
     "text": [
      "1\n",
      "0b00011011\n",
      "0b00000001\n",
      "['0', '0', '0', '1', '1', '1', '0', '0']\n",
      "11100011\n"
     ]
    }
   ],
   "source": [
    "checksum_gen(['11010011','01001000'],8,8)"
   ]
  },
  {
   "cell_type": "code",
   "execution_count": 4,
   "id": "8cd09904",
   "metadata": {},
   "outputs": [
    {
     "data": {
      "text/plain": [
       "9"
      ]
     },
     "execution_count": 4,
     "metadata": {},
     "output_type": "execute_result"
    }
   ],
   "source": [
    "len(\"100011011\")"
   ]
  },
  {
   "cell_type": "code",
   "execution_count": 195,
   "id": "726d18ce",
   "metadata": {},
   "outputs": [
    {
     "name": "stdout",
     "output_type": "stream",
     "text": [
      "0\n",
      "0b11100010\n",
      "0b00000000\n",
      "['1', '1', '1', '0', '0', '0', '1', '0']\n",
      "00011101\n"
     ]
    }
   ],
   "source": [
    "checksum_gen(['10101001','00111001'],8,8)"
   ]
  },
  {
   "cell_type": "code",
   "execution_count": 196,
   "id": "b0836860",
   "metadata": {},
   "outputs": [
    {
     "name": "stdout",
     "output_type": "stream",
     "text": [
      "0\n",
      "0b1000\n",
      "0b0000\n",
      "['1', '0', '0', '0']\n",
      "0111\n"
     ]
    }
   ],
   "source": [
    "checksum_gen(['0001','0111'],4,4)"
   ]
  },
  {
   "cell_type": "code",
   "execution_count": 197,
   "id": "f621ef16",
   "metadata": {},
   "outputs": [
    {
     "name": "stdout",
     "output_type": "stream",
     "text": [
      "2\n",
      "0b0100111\n",
      "0b0000010\n",
      "['0', '1', '0', '1', '0', '0', '1']\n",
      "1010110\n"
     ]
    }
   ],
   "source": [
    "checksum_gen(['1101001','1001000','1110110'],7,7)"
   ]
  },
  {
   "cell_type": "code",
   "execution_count": 207,
   "id": "09a68e20",
   "metadata": {},
   "outputs": [],
   "source": [
    "def checksum_check(dataword, word_size, blocks):\n",
    "    size_dataword = len(dataword)\n",
    "    #convert binary to decimal\n",
    "    dataword = [int('0b'+dataword[i],2) for i in range(size_dataword)]\n",
    "    x=0;\n",
    "    print(dataword)\n",
    "    for i in dataword:\n",
    "        x+=i;\n",
    "    #convert summation to list of binary\n",
    "    summation = bin(x)[2:]\n",
    "    size_extra_bit = len(summation) - blocks\n",
    "    print(size_extra_bit)\n",
    "    extra_bit = '0b'+summation[:size_extra_bit].zfill(word_size)\n",
    "    summation = '0b'+summation[size_extra_bit:].zfill(word_size)\n",
    "    print(summation+'\\n'+extra_bit)\n",
    "    checksum = list(str(bin(int(summation,2)+int(extra_bit,2))[2:]).zfill(word_size))\n",
    "    print(checksum)\n",
    "    #1's complement\n",
    "    for i in range(len(checksum)):\n",
    "        if checksum[i] == '1':\n",
    "            checksum[i] = '0'\n",
    "        else:\n",
    "            checksum[i] = '1'\n",
    "    print(''.join(checksum))\n",
    "    #if there is no bit in checksum, then no error.\n",
    "    return 1 if '1' not in checksum else 0"
   ]
  },
  {
   "cell_type": "code",
   "execution_count": 208,
   "id": "841773bd",
   "metadata": {},
   "outputs": [
    {
     "name": "stdout",
     "output_type": "stream",
     "text": [
      "[105, 72, 118, 86]\n",
      "2\n",
      "0b1111101\n",
      "0b0000010\n",
      "['1', '1', '1', '1', '1', '1', '1']\n",
      "0000000\n"
     ]
    },
    {
     "data": {
      "text/plain": [
       "1"
      ]
     },
     "execution_count": 208,
     "metadata": {},
     "output_type": "execute_result"
    }
   ],
   "source": [
    "checksum_check(['1101001','1001000','1110110','1010110'],7,7)"
   ]
  },
  {
   "cell_type": "code",
   "execution_count": 205,
   "id": "81f16a49",
   "metadata": {},
   "outputs": [],
   "source": [
    "def check(dataword):\n",
    "    size_dataword = len(dataword)\n",
    "    dataword = [int('0b'+dataword[i],2) for i in range(size_dataword)]\n",
    "    #convert binary to decimal\n",
    "    print(dataword)"
   ]
  },
  {
   "cell_type": "code",
   "execution_count": 206,
   "id": "25e124cf",
   "metadata": {},
   "outputs": [
    {
     "name": "stdout",
     "output_type": "stream",
     "text": [
      "[105, 72, 118, 86]\n"
     ]
    }
   ],
   "source": [
    "check(['1101001','1001000','1110110','1010110'])"
   ]
  },
  {
   "cell_type": "code",
   "execution_count": null,
   "id": "0af7203e",
   "metadata": {},
   "outputs": [],
   "source": []
  }
 ],
 "metadata": {
  "kernelspec": {
   "display_name": "Python 3.8.5 64-bit",
   "language": "python",
   "name": "python38564bit4d543c1e7bc04c71964bf496dc8b04d7"
  },
  "language_info": {
   "codemirror_mode": {
    "name": "ipython",
    "version": 3
   },
   "file_extension": ".py",
   "mimetype": "text/x-python",
   "name": "python",
   "nbconvert_exporter": "python",
   "pygments_lexer": "ipython3",
   "version": "3.8.8"
  }
 },
 "nbformat": 4,
 "nbformat_minor": 5
}
