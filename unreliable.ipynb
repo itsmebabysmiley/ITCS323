{
 "cells": [
  {
   "cell_type": "code",
   "execution_count": null,
   "id": "15cd0f55",
   "metadata": {},
   "outputs": [],
   "source": [
    "def unreliable_transmission(in_frame):\n",
    "    pass"
   ]
  }
 ],
 "metadata": {
  "kernelspec": {
   "display_name": "Python 3.8.5 64-bit",
   "language": "python",
   "name": "python38564bit4d543c1e7bc04c71964bf496dc8b04d7"
  },
  "language_info": {
   "codemirror_mode": {
    "name": "ipython",
    "version": 3
   },
   "file_extension": ".py",
   "mimetype": "text/x-python",
   "name": "python",
   "nbconvert_exporter": "python",
   "pygments_lexer": "ipython3",
   "version": "3.8.8"
  }
 },
 "nbformat": 4,
 "nbformat_minor": 5
}
