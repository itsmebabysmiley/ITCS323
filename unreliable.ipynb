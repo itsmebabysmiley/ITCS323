{
 "cells": [
  {
   "cell_type": "code",
   "execution_count": 17,
   "metadata": {},
   "outputs": [
    {
     "name": "stdout",
     "output_type": "stream",
     "text": [
      "Input size : 10\n",
      "Sender :  1 1 0 1 0 0 1 1 1 0\n",
      "\n",
      "Insert probability that 0 < p < 1   p : 0.1\n",
      "\n",
      "Reciever :  1 1 0 1 0 0 1 1 0 0\n",
      "\u001b[31m**Now The Error are 1 detected**\n"
     ]
    }
   ],
   "source": [
    "import numpy\n",
    "import math\n",
    "import random as rand\n",
    "import array as arr\n",
    "from numpy.random import randint\n",
    "from colorama import *\n",
    "\n",
    "arraywant = []\n",
    "\n",
    "def unreliable_transmission(arrw):\n",
    "    s = input('Input size : ')\n",
    "    for i in range(int(s)):\n",
    "        values = randint(0, 2)\n",
    "        arrw.append(values)\n",
    "    print('Sender : ',*arrw)\n",
    "    print()\n",
    "    prob = input('Insert probability that 0 < p < 1   p : ')\n",
    "    prob = float(prob)\n",
    "    if(prob == 0):\n",
    "        not_change(s, arrw)\n",
    "    elif(prob == 1):\n",
    "        error(s,arrw)\n",
    "    elif(0<prob<1):\n",
    "        BER(s,arrw,prob)\n",
    "    else:\n",
    "        print(\"Try again for 0 < p < 1\")\n",
    "        arraywant = []\n",
    "        size = input('Input size : ')\n",
    "        un(int(size), arraywant)\n",
    "        \n",
    "        \n",
    "def not_change(s,arrw):\n",
    "    print()\n",
    "    print('Reciever : ',*arrw)\n",
    "    print(Fore.GREEN +'**It is not have something change**')\n",
    "    \n",
    "def error(s,arrw):\n",
    "    print()\n",
    "    for i in range(s):\n",
    "        if(arrw[i] == 1):\n",
    "            arrw[i] = 0\n",
    "        else:\n",
    "            arrw[i] = 1\n",
    "    print('Reciever : ',*arrw)\n",
    "    print(Fore.RED +'**Now The Error are detected**')\n",
    "    \n",
    "def BER(s,arrw,prob):\n",
    "    print()\n",
    "    prob = prob * len(arrw)\n",
    "    prob = int(prob)\n",
    "    if(prob == 0):\n",
    "        not_change(s, arrw)\n",
    "    else:\n",
    "        x = rand.sample(range(len(arrw)), prob)\n",
    "\n",
    "        for i in range(prob):\n",
    "            if(arrw[x[i]] == 0):\n",
    "                arrw[x[i]] = 1\n",
    "            else:\n",
    "                arrw[x[i]] = 0\n",
    "    \n",
    "\n",
    "        print('Reciever : ',*arrw)\n",
    "        print(Fore.RED +'**Now The Error are {} detected**'.format(prob))\n",
    "\n",
    "unreliable_transmission(arraywant)"
   ]
  },
  {
   "cell_type": "code",
   "execution_count": null,
   "metadata": {},
   "outputs": [],
   "source": []
  }
 ],
 "metadata": {
  "kernelspec": {
   "display_name": "Python 3",
   "language": "python",
   "name": "python3"
  },
  "language_info": {
   "codemirror_mode": {
    "name": "ipython",
    "version": 3
   },
   "file_extension": ".py",
   "mimetype": "text/x-python",
   "name": "python",
   "nbconvert_exporter": "python",
   "pygments_lexer": "ipython3",
   "version": "3.8.8"
  }
 },
 "nbformat": 4,
 "nbformat_minor": 4
}
