{
 "cells": [
  {
   "cell_type": "code",
   "execution_count": 247,
   "id": "4612b9c5",
   "metadata": {},
   "outputs": [],
   "source": [
    "def hamming_gen(dataword):\n",
    "    dataword = list(dataword)\n",
    "#     dataword.reverse()\n",
    "    #fine parity bit 2^p >= m+p+1\n",
    "    p=0\n",
    "    m = len(dataword)\n",
    "    list_p =[]\n",
    "    while 2**p < m+p+1:\n",
    "        index_p = 2**p\n",
    "        list_p.append(index_p)\n",
    "        p+=1\n",
    "    print(list_p)\n",
    "    \n",
    "    #add p in dataword\n",
    "    new_dataword = []\n",
    "    count = 0\n",
    "    temp_list_p = [i-1 for i in list_p]\n",
    "    for i in range(m+len(list_p)):\n",
    "        if i in temp_list_p:\n",
    "            new_dataword.append(2)\n",
    "        else:\n",
    "            new_dataword.append(dataword[count])\n",
    "            count+=1\n",
    "    print(new_dataword)\n",
    "    #calculate p\n",
    "    \n",
    "    for i in list_p:\n",
    "        count = 0\n",
    "        count_i = 0\n",
    "        temp_p = ''\n",
    "        print(i, end=' ')\n",
    "        for j in range(i-1,len(new_dataword)):\n",
    "            if count == i:\n",
    "                count_i += 1\n",
    "                if(count_i == i):\n",
    "                    count = 0\n",
    "                    count_i = 0\n",
    "            else:\n",
    "                print(new_dataword[j],end=' ')\n",
    "                temp_p += str(new_dataword[j])\n",
    "                count+=1\n",
    "        temp_p\n",
    "        print(temp_p.count('1'))\n",
    "        print('\\n')\n",
    "                \n",
    "            \n",
    "\n",
    "    "
   ]
  },
  {
   "cell_type": "code",
   "execution_count": 245,
   "id": "e5fbe8ec",
   "metadata": {},
   "outputs": [
    {
     "name": "stdout",
     "output_type": "stream",
     "text": [
      "[1, 2, 4, 8]\n",
      "[-1, -1, '1', -1, '0', '1', '0', -1, '0', '1', '0']\n",
      "1 -1 1 0 0 0 0 4\n",
      "\n",
      "\n",
      "2 -1 1 1 0 1 0 2\n",
      "\n",
      "\n",
      "4 -1 0 1 0 2\n",
      "\n",
      "\n",
      "8 -1 0 1 0 2\n",
      "\n",
      "\n"
     ]
    }
   ],
   "source": [
    "hamming_gen('1010010')"
   ]
  },
  {
   "cell_type": "code",
   "execution_count": 248,
   "id": "411c2153",
   "metadata": {},
   "outputs": [
    {
     "name": "stdout",
     "output_type": "stream",
     "text": [
      "[1, 2, 4, 8]\n",
      "[2, 2, '1', 2, '0', '0', '1', 2, '1', '0', '1', '0']\n",
      "1 2 1 0 1 1 1 4\n",
      "\n",
      "\n",
      "2 2 1 0 1 0 1 3\n",
      "\n",
      "\n",
      "4 2 0 0 1 0 1\n",
      "\n",
      "\n",
      "8 2 1 0 1 0 2\n",
      "\n",
      "\n"
     ]
    }
   ],
   "source": [
    "hamming_gen('10011010')"
   ]
  },
  {
   "cell_type": "code",
   "execution_count": 93,
   "id": "303a424b",
   "metadata": {},
   "outputs": [
    {
     "name": "stdout",
     "output_type": "stream",
     "text": [
      "['1', '0', '1', '1', '0', '1', '0']\n",
      "[0, 1, 3, 7]\n",
      "[-1, -1, '1', -1, '0', '1', '1', -1, '0', '1', '0']\n"
     ]
    }
   ],
   "source": [
    "hamming_gen('1011010')"
   ]
  },
  {
   "cell_type": "code",
   "execution_count": null,
   "id": "0f4b6341",
   "metadata": {},
   "outputs": [],
   "source": []
  }
 ],
 "metadata": {
  "kernelspec": {
   "display_name": "Python 3",
   "language": "python",
   "name": "python3"
  },
  "language_info": {
   "codemirror_mode": {
    "name": "ipython",
    "version": 3
   },
   "file_extension": ".py",
   "mimetype": "text/x-python",
   "name": "python",
   "nbconvert_exporter": "python",
   "pygments_lexer": "ipython3",
   "version": "3.8.8"
  }
 },
 "nbformat": 4,
 "nbformat_minor": 5
}
