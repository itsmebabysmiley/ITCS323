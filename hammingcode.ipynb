{
 "cells": [
  {
   "cell_type": "code",
   "execution_count": 113,
   "id": "4612b9c5",
   "metadata": {},
   "outputs": [],
   "source": [
    "def hamming_gen(dataword):\n",
    "    print('dataword:',dataword)\n",
    "    dataword = list(dataword)\n",
    "    dataword.reverse()\n",
    "    \n",
    "    p=0\n",
    "    m = len(dataword)\n",
    "    list_p =[]\n",
    "    #fine parity bit 2^p >= m+p+1\n",
    "    while 2**p < m+p+1:\n",
    "        index_p = 2**p\n",
    "        list_p.append(index_p)\n",
    "        p+=1\n",
    "    \n",
    "    #add parity position in dataword\n",
    "    codeword = []\n",
    "    count = 0\n",
    "    temp_list_p = [i-1 for i in list_p]\n",
    "    for i in range(m+len(list_p)):\n",
    "        if i in temp_list_p:\n",
    "            codeword.append('P')\n",
    "        else:\n",
    "            codeword.append(dataword[count])\n",
    "            count+=1\n",
    "    print('P Bit:')\n",
    "    print(codeword)\n",
    "    #calculate parity bit\n",
    "    for i in list_p:\n",
    "        count = 0\n",
    "        count_i = 0\n",
    "        temp_p = ''\n",
    "        #นับตาม position of parity(p2>2 3,,6 7,,10 11)\n",
    "        for j in range(i-1,len(codeword)):\n",
    "            if count == i:\n",
    "                count_i += 1\n",
    "                if(count_i == i):\n",
    "                    count = 0\n",
    "                    count_i = 0\n",
    "            else:\n",
    "                print(f'{j+1}[{codeword[j]}]',end=' ')\n",
    "                temp_p += str(codeword[j])\n",
    "                count+=1\n",
    "        #calcuate parity then insert at parity position in codeword\n",
    "        temp_p = ''.join(temp_p)\n",
    "        bit_1 = temp_p.count('1')\n",
    "        codeword[i-1] = \"1\" if bit_1 % 2 != 0 else \"0\"\n",
    "        print('\\n')\n",
    "    print('codeword:',end=' ')       \n",
    "    codeword.reverse()\n",
    "    print(''.join(codeword))  \n",
    "    "
   ]
  },
  {
   "cell_type": "code",
   "execution_count": 114,
   "id": "e5fbe8ec",
   "metadata": {},
   "outputs": [
    {
     "name": "stdout",
     "output_type": "stream",
     "text": [
      "dataword: 1010010\n",
      "P Bit:\n",
      "['P', 'P', '0', 'P', '1', '0', '0', 'P', '1', '0', '1']\n",
      "1[P] 3[0] 5[1] 7[0] 9[1] 11[1] \n",
      "\n",
      "2[P] 3[0] 6[0] 7[0] 10[0] 11[1] \n",
      "\n",
      "4[P] 5[1] 6[0] 7[0] \n",
      "\n",
      "8[P] 9[1] 10[0] 11[1] \n",
      "\n",
      "codeword: 10100011011\n"
     ]
    }
   ],
   "source": [
    "hamming_gen('1010010')"
   ]
  },
  {
   "cell_type": "code",
   "execution_count": 115,
   "id": "411c2153",
   "metadata": {},
   "outputs": [
    {
     "name": "stdout",
     "output_type": "stream",
     "text": [
      "dataword: 10011010\n",
      "P Bit:\n",
      "['P', 'P', '0', 'P', '1', '0', '1', 'P', '1', '0', '0', '1']\n",
      "1[P] 3[0] 5[1] 7[1] 9[1] 11[0] \n",
      "\n",
      "2[P] 3[0] 6[0] 7[1] 10[0] 11[0] \n",
      "\n",
      "4[P] 5[1] 6[0] 7[1] 12[1] \n",
      "\n",
      "8[P] 9[1] 10[0] 11[0] 12[1] \n",
      "\n",
      "codeword: 100101011011\n"
     ]
    }
   ],
   "source": [
    "hamming_gen('10011010')"
   ]
  },
  {
   "cell_type": "code",
   "execution_count": 116,
   "id": "303a424b",
   "metadata": {},
   "outputs": [
    {
     "name": "stdout",
     "output_type": "stream",
     "text": [
      "dataword: 1001101\n",
      "P Bit:\n",
      "['P', 'P', '1', 'P', '0', '1', '1', 'P', '0', '0', '1']\n",
      "1[P] 3[1] 5[0] 7[1] 9[0] 11[1] \n",
      "\n",
      "2[P] 3[1] 6[1] 7[1] 10[0] 11[1] \n",
      "\n",
      "4[P] 5[0] 6[1] 7[1] \n",
      "\n",
      "8[P] 9[0] 10[0] 11[1] \n",
      "\n",
      "codeword: 10011100101\n"
     ]
    }
   ],
   "source": [
    "hamming_gen('1001101')"
   ]
  },
  {
   "cell_type": "code",
   "execution_count": 54,
   "id": "563b16fd",
   "metadata": {},
   "outputs": [
    {
     "name": "stdout",
     "output_type": "stream",
     "text": [
      "dataword: 1011001\n",
      "P Bit:\n",
      "['P', 'P', '1', 'P', '0', '0', '1', 'P', '1', '0', '1']\n",
      "codeword: 10101001110\n"
     ]
    }
   ],
   "source": [
    "hamming_gen('1011001')"
   ]
  },
  {
   "cell_type": "code",
   "execution_count": 149,
   "id": "0f4b6341",
   "metadata": {},
   "outputs": [],
   "source": [
    "def hamming_check(codeword):\n",
    "    print('codeword:',codeword)\n",
    "    codeword = list(codeword)\n",
    "    codeword.reverse()\n",
    "    #find number of parity bit\n",
    "    size_codeword = len(codeword)\n",
    "    p = 0\n",
    "    list_p =[]\n",
    "    while 2**p <= size_codeword-p:\n",
    "        list_p.append(2**p)\n",
    "        p+=1\n",
    "    check_err_bit = ''\n",
    "    #check error bit\n",
    "    for i in list_p:\n",
    "        count = 0\n",
    "        count_i = 0\n",
    "        temp_p = ''\n",
    "        #นับตาม position of parity(p2>2 3,,6 7,,10 11)\n",
    "        for j in range(i-1,len(codeword)):\n",
    "            if count == i:\n",
    "                count_i += 1\n",
    "                if(count_i == i):\n",
    "                    count = 0\n",
    "                    count_i = 0\n",
    "            else:\n",
    "#                 print(f'{j+1}[{codeword[j]}]',end=' ')\n",
    "                temp_p += str(codeword[j])\n",
    "                count+=1\n",
    "        #calcuate parity then insert at parity position in codeword\n",
    "        temp_p = ''.join(temp_p)\n",
    "        bit_1 = temp_p.count('1')\n",
    "        check_err_bit += \"1\" if bit_1 % 2 != 0 else \"0\"\n",
    "#         print('\\n')\n",
    "    #reverse binary\n",
    "    err_bit = check_err_bit[::-1]\n",
    "    print(f'Bit error = {check_err_bit} (',int(err_bit,2),')')"
   ]
  },
  {
   "cell_type": "code",
   "execution_count": 152,
   "id": "a9589abf",
   "metadata": {},
   "outputs": [
    {
     "name": "stdout",
     "output_type": "stream",
     "text": [
      "codeword: 11100011011\n",
      "Bit error = 0101 ( 10 )\n"
     ]
    }
   ],
   "source": [
    "hamming_check('11100011011')"
   ]
  },
  {
   "cell_type": "code",
   "execution_count": 151,
   "id": "713e8e87",
   "metadata": {},
   "outputs": [
    {
     "name": "stdout",
     "output_type": "stream",
     "text": [
      "Data transferred is 10101001110\n",
      "Error Data is 11100011011\n",
      "The position of error is 10\n"
     ]
    }
   ],
   "source": [
    "def calcRedundantBits(m):\n",
    "  \n",
    "    # Use the formula 2 ^ r >= m + r + 1\n",
    "    # to calculate the no of redundant bits.\n",
    "    # Iterate over 0 .. m and return the value\n",
    "    # that satisfies the equation\n",
    "  \n",
    "    for i in range(m):\n",
    "        if(2**i >= m + i + 1):\n",
    "            return i\n",
    "  \n",
    "  \n",
    "def posRedundantBits(data, r):\n",
    "  \n",
    "    # Redundancy bits are placed at the positions\n",
    "    # which correspond to the power of 2.\n",
    "    j = 0\n",
    "    k = 1\n",
    "    m = len(data)\n",
    "    res = ''\n",
    "  \n",
    "    # If position is power of 2 then insert '0'\n",
    "    # Else append the data\n",
    "    for i in range(1, m + r+1):\n",
    "        if(i == 2**j):\n",
    "            res = res + '0'\n",
    "            j += 1\n",
    "        else:\n",
    "            res = res + data[-1 * k]\n",
    "            k += 1\n",
    "  \n",
    "    # The result is reversed since positions are\n",
    "    # counted backwards. (m + r+1 ... 1)\n",
    "    return res[::-1]\n",
    "  \n",
    "  \n",
    "def calcParityBits(arr, r):\n",
    "    n = len(arr)\n",
    "  \n",
    "    # For finding rth parity bit, iterate over\n",
    "    # 0 to r - 1\n",
    "    for i in range(r):\n",
    "        val = 0\n",
    "        for j in range(1, n + 1):\n",
    "  \n",
    "            # If position has 1 in ith significant\n",
    "            # position then Bitwise OR the array value\n",
    "            # to find parity bit value.\n",
    "            if(j & (2**i) == (2**i)):\n",
    "                val = val ^ int(arr[-1 * j])\n",
    "                # -1 * j is given since array is reversed\n",
    "  \n",
    "        # String Concatenation\n",
    "        # (0 to n - 2^r) + parity bit + (n - 2^r + 1 to n)\n",
    "        arr = arr[:n-(2**i)] + str(val) + arr[n-(2**i)+1:]\n",
    "    return arr\n",
    "  \n",
    "  \n",
    "def detectError(arr, nr):\n",
    "    n = len(arr)\n",
    "    res = 0\n",
    "  \n",
    "    # Calculate parity bits again\n",
    "    for i in range(nr):\n",
    "        val = 0\n",
    "        for j in range(1, n + 1):\n",
    "            if(j & (2**i) == (2**i)):\n",
    "                val = val ^ int(arr[-1 * j])\n",
    "  \n",
    "        # Create a binary no by appending\n",
    "        # parity bits together.\n",
    "  \n",
    "        res = res + val*(10**i)\n",
    "  \n",
    "    # Convert binary to decimal\n",
    "    return int(str(res), 2)\n",
    "  \n",
    "  \n",
    "# Enter the data to be transmitted\n",
    "data = '1011001'\n",
    "  \n",
    "# Calculate the no of Redundant Bits Required\n",
    "m = len(data)\n",
    "r = calcRedundantBits(m)\n",
    "  \n",
    "# Determine the positions of Redundant Bits\n",
    "arr = posRedundantBits(data, r)\n",
    "  \n",
    "# Determine the parity bits\n",
    "arr = calcParityBits(arr, r)\n",
    "  \n",
    "# Data to be transferred\n",
    "print(\"Data transferred is \" + arr)  \n",
    "  \n",
    "# Stimulate error in transmission by changing\n",
    "# a bit value.\n",
    "# 10101001110 -> 11101001110, error in 10th position.\n",
    "  \n",
    "arr = '11100011011'\n",
    "print(\"Error Data is \" + arr)\n",
    "correction = detectError(arr, 4)\n",
    "print(\"The position of error is \" + str(correction))"
   ]
  },
  {
   "cell_type": "code",
   "execution_count": null,
   "id": "1da94e91",
   "metadata": {},
   "outputs": [],
   "source": []
  }
 ],
 "metadata": {
  "kernelspec": {
   "display_name": "Python 3",
   "language": "python",
   "name": "python3"
  },
  "language_info": {
   "codemirror_mode": {
    "name": "ipython",
    "version": 3
   },
   "file_extension": ".py",
   "mimetype": "text/x-python",
   "name": "python",
   "nbconvert_exporter": "python",
   "pygments_lexer": "ipython3",
   "version": "3.8.8"
  }
 },
 "nbformat": 4,
 "nbformat_minor": 5
}
