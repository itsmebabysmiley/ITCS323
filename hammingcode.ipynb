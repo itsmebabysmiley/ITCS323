{
 "cells": [
  {
   "cell_type": "code",
   "execution_count": 1,
   "id": "4612b9c5",
   "metadata": {},
   "outputs": [],
   "source": [
    "def hamming_gen(dataword):\n",
    "#     print('dataword:',dataword)\n",
    "    dataword = list(dataword)\n",
    "    dataword.reverse()\n",
    "    \n",
    "    p=0\n",
    "    m = len(dataword)\n",
    "    list_p =[]\n",
    "    #fine parity bit 2^p >= m+p+1\n",
    "    while 2**p < m+p+1:\n",
    "        index_p = 2**p\n",
    "        list_p.append(index_p)\n",
    "        p+=1\n",
    "    \n",
    "    #add parity position in dataword\n",
    "    codeword = []\n",
    "    count = 0\n",
    "    temp_list_p = [i-1 for i in list_p]\n",
    "    for i in range(m+len(list_p)):\n",
    "        if i in temp_list_p:\n",
    "            codeword.append('P')\n",
    "        else:\n",
    "            codeword.append(dataword[count])\n",
    "            count+=1\n",
    "#     print('P Bit:')\n",
    "#     print(codeword)\n",
    "    #calculate parity bit\n",
    "    for i in list_p:\n",
    "        count = 0\n",
    "        count_i = 0\n",
    "        temp_p = ''\n",
    "        #นับตาม position of parity(p2>2 3,,6 7,,10 11)\n",
    "        for j in range(i-1,len(codeword)):\n",
    "            if count == i:\n",
    "                count_i += 1\n",
    "                if(count_i == i):\n",
    "                    count = 0\n",
    "                    count_i = 0\n",
    "            else:\n",
    "#                 print(f'{j+1}[{codeword[j]}]',end=' ')\n",
    "                temp_p += str(codeword[j])\n",
    "                count+=1\n",
    "        #calcuate parity then insert at parity position in codeword\n",
    "        temp_p = ''.join(temp_p)\n",
    "        bit_1 = temp_p.count('1')\n",
    "        codeword[i-1] = \"1\" if bit_1 % 2 != 0 else \"0\"\n",
    "#         print('\\n')\n",
    "#     print('codeword:',end=' ')       \n",
    "    codeword.reverse()\n",
    "    return ''.join(codeword)\n",
    "    "
   ]
  },
  {
   "cell_type": "code",
   "execution_count": 2,
   "id": "e5fbe8ec",
   "metadata": {},
   "outputs": [
    {
     "name": "stdout",
     "output_type": "stream",
     "text": [
      "10100011011\n",
      "100101011011\n",
      "10011100101\n",
      "10101001110\n"
     ]
    }
   ],
   "source": [
    "print(hamming_gen('1010010'))\n",
    "print(hamming_gen('10011010'))\n",
    "print(hamming_gen('1001101'))\n",
    "print(hamming_gen('1011001'))"
   ]
  },
  {
   "cell_type": "code",
   "execution_count": 3,
   "id": "fb225aca",
   "metadata": {},
   "outputs": [
    {
     "name": "stdout",
     "output_type": "stream",
     "text": [
      "10010110001111\n",
      "01001000001011\n",
      "00010100000101\n",
      "11011001010000\n",
      "10001110111010\n",
      "001100011010\n"
     ]
    }
   ],
   "source": [
    "print(hamming_gen('1001010001'))\n",
    "print(hamming_gen('0100100000')) \n",
    "print(hamming_gen('0001010001'))\n",
    "print(hamming_gen('1101101010'))\n",
    "print(hamming_gen('1000110110'))\n",
    "print(hamming_gen('00110010'))"
   ]
  },
  {
   "cell_type": "code",
   "execution_count": 4,
   "id": "0f4b6341",
   "metadata": {},
   "outputs": [],
   "source": [
    "def hamming_check(codeword):\n",
    "#     print('codeword:',codeword)\n",
    "    codeword = list(codeword)\n",
    "    codeword.reverse()\n",
    "    #find number of parity bit\n",
    "    size_codeword = len(codeword)\n",
    "    p = 0\n",
    "    list_p =[]\n",
    "    while 2**p <= size_codeword-p:\n",
    "        list_p.append(2**p)\n",
    "        p+=1\n",
    "    check_err_bit = ''\n",
    "    #check error bit\n",
    "    for i in list_p:\n",
    "        count = 0\n",
    "        count_i = 0\n",
    "        temp_p = ''\n",
    "        #นับตาม position of parity(p2>2 3,,6 7,,10 11)\n",
    "        for j in range(i-1,len(codeword)):\n",
    "            if count == i:\n",
    "                count_i += 1\n",
    "                if(count_i == i):\n",
    "                    count = 0\n",
    "                    count_i = 0\n",
    "            else:\n",
    "#                 print(f'{j+1}[{codeword[j]}]',end=' ')\n",
    "                temp_p += str(codeword[j])\n",
    "                count+=1\n",
    "        #calcuate parity then insert at parity position in codeword\n",
    "        temp_p = ''.join(temp_p)\n",
    "        bit_1 = temp_p.count('1')\n",
    "        check_err_bit += \"1\" if bit_1 % 2 != 0 else \"0\"\n",
    "#         print('\\n')\n",
    "    #reverse binary\n",
    "    err_bit = check_err_bit[::-1]\n",
    "    return int(err_bit,2)"
   ]
  },
  {
   "cell_type": "code",
   "execution_count": 13,
   "id": "ef78f293",
   "metadata": {},
   "outputs": [
    {
     "name": "stdout",
     "output_type": "stream",
     "text": [
      "0\n",
      "0\n",
      "0\n",
      "0\n",
      "0\n",
      "12\n",
      "0\n",
      "0\n",
      "5\n",
      "0\n"
     ]
    }
   ],
   "source": [
    "print(hamming_check('10100011011'))\n",
    "print(hamming_check('100101011011'))\n",
    "print(hamming_check('10011100101'))\n",
    "print(hamming_check('10101001110'))\n",
    "print(hamming_check('10001110111010'))\n",
    "print(hamming_check('101100011010')) #bit change 12\n",
    "print(hamming_check('11011001010000'))\n",
    "print(hamming_check('00010100000101'))\n",
    "print(hamming_check('10010110011111')) #bit change 5\n",
    "print(hamming_check('01001000001011'))"
   ]
  },
  {
   "cell_type": "code",
   "execution_count": null,
   "id": "ee2aff6e",
   "metadata": {},
   "outputs": [],
   "source": []
  },
  {
   "cell_type": "code",
   "execution_count": null,
   "id": "fc9350c0",
   "metadata": {},
   "outputs": [],
   "source": []
  }
 ],
 "metadata": {
  "kernelspec": {
   "display_name": "Python 3",
   "language": "python",
   "name": "python3"
  },
  "language_info": {
   "codemirror_mode": {
    "name": "ipython",
    "version": 3
   },
   "file_extension": ".py",
   "mimetype": "text/x-python",
   "name": "python",
   "nbconvert_exporter": "python",
   "pygments_lexer": "ipython3",
   "version": "3.8.8"
  }
 },
 "nbformat": 4,
 "nbformat_minor": 5
}
